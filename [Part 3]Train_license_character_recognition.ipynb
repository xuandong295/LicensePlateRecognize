{
 "cells": [
  {
   "cell_type": "markdown",
   "metadata": {
    "colab_type": "text",
    "id": "GxW3Qg-ScurV"
   },
   "source": [
    "#### This notebook is used to train a character recongition from input image using MobileNets "
   ]
  },
  {
   "cell_type": "code",
   "execution_count": 2,
   "metadata": {
    "colab": {
     "base_uri": "https://localhost:8080/",
     "height": 35
    },
    "colab_type": "code",
    "id": "XJmrQrB_curX",
    "outputId": "5a4bee5b-8c58-41bb-cd70-ff9ffa406ff9"
   },
   "outputs": [
    {
     "name": "stderr",
     "output_type": "stream",
     "text": [
      "Using TensorFlow backend.\n"
     ]
    }
   ],
   "source": [
    "# ignore warning \n",
    "import os\n",
    "os.environ['TF_CPP_MIN_LOG_LEVEL'] = '3'\n",
    "\n",
    "from keras.preprocessing.image import ImageDataGenerator\n",
    "from keras.applications import MobileNetV2\n",
    "from keras.layers import AveragePooling2D\n",
    "from keras.layers import Dropout\n",
    "from keras.layers import Flatten\n",
    "from keras.layers import Dense\n",
    "from keras.layers import Input\n",
    "from keras.models import Model\n",
    "from keras.optimizers import Adam\n",
    "from keras.preprocessing.image import img_to_array\n",
    "from keras.preprocessing.image import load_img\n",
    "from keras.utils import to_categorical\n",
    "from keras.callbacks import ModelCheckpoint, EarlyStopping\n",
    "from keras.models import model_from_json\n",
    "from sklearn.preprocessing import LabelEncoder\n",
    "from sklearn.model_selection import train_test_split\n",
    "import matplotlib.pyplot as plt\n",
    "import matplotlib.gridspec as gridspec\n",
    "import glob\n",
    "import numpy as np"
   ]
  },
  {
   "cell_type": "markdown",
   "metadata": {
    "colab_type": "text",
    "id": "z8ApWHt8curj"
   },
   "source": [
    "### Visualize dataset"
   ]
  },
  {
   "cell_type": "code",
   "execution_count": 15,
   "metadata": {
    "colab": {
     "base_uri": "https://localhost:8080/",
     "height": 479
    },
    "colab_type": "code",
    "id": "-y1mnjyPcurk",
    "outputId": "de256a8f-5bb5-47c7-91c5-b29832539766",
    "scrolled": false
   },
   "outputs": [
    {
     "data": {
      "image/png": "[encoded data removed]",
      "text/plain": [
       "<Figure size 720x576 with 12 Axes>"
      ]
     },
     "metadata": {
      "needs_background": "light",
      "tags": []
     },
     "output_type": "display_data"
    }
   ],
   "source": [
    "dataset_paths = glob.glob(\"dataset_characters/**/*.jpg\")\n",
    "\n",
    "cols=4\n",
    "rows=3\n",
    "fig = plt.figure(figsize=(10,8))\n",
    "plt.rcParams.update({\"font.size\":14})\n",
    "grid = gridspec.GridSpec(ncols=cols,nrows=rows,figure=fig)\n",
    "\n",
    "# create a random list of images will be displayed\n",
    "np.random.seed(45)\n",
    "rand = np.random.randint(0,len(dataset_paths),size=(cols*rows))\n",
    "\n",
    "# Plot image\n",
    "for i in range(cols*rows):\n",
    "    fig.add_subplot(grid[i])\n",
    "    image = load_img(dataset_paths[rand[i]])\n",
    "    label = dataset_paths[rand[i]].split(os.path.sep)[-2]\n",
    "    plt.title('\"{:s}\"'.format(label))\n",
    "    plt.axis(False)\n",
    "    plt.imshow(image)\n",
    "\n",
    "plt.savefig(\"Visualize_dataset.jpg\",dpi=300)    \n"
   ]
  },
  {
   "cell_type": "markdown",
   "metadata": {
    "colab_type": "text",
    "id": "LJzYBWt3bzAj"
   },
   "source": [
    "## Data pre-processing"
   ]
  },
  {
   "cell_type": "code",
   "execution_count": 5,
   "metadata": {
    "colab": {
     "base_uri": "https://localhost:8080/",
     "height": 35
    },
    "colab_type": "code",
    "id": "Yh443FGFRgFP",
    "outputId": "2fdc22f4-e393-4ae1-bb86-d5fb55ed1865"
   },
   "outputs": [
    {
     "name": "stdout",
     "output_type": "stream",
     "text": [
      "[INFO] Find 34575 images with 36 classes\n"
     ]
    }
   ],
   "source": [
    "# Arange input data and corresponding labels\n",
    "X=[]\n",
    "labels=[]\n",
    "\n",
    "for image_path in dataset_paths:\n",
    "  label = image_path.split(os.path.sep)[-2]\n",
    "  image=load_img(image_path,target_size=(80,80))\n",
    "  image=img_to_array(image)\n",
    "\n",
    "  X.append(image)\n",
    "  labels.append(label)\n",
    "\n",
    "X = np.array(X,dtype=\"float16\")\n",
    "labels = np.array(labels)\n",
    "\n",
    "print(\"[INFO] Find {:d} images with {:d} classes\".format(len(X),len(set(labels))))\n",
    "\n",
    "\n",
    "# perform one-hot encoding on the labels\n",
    "lb = LabelEncoder()\n",
    "lb.fit(labels)\n",
    "labels = lb.transform(labels)\n",
    "y = to_categorical(labels)\n",
    "\n",
    "# save label file so we can use in another script\n",
    "np.save('license_character_classes.npy', lb.classes_)"
   ]
  },
  {
   "cell_type": "code",
   "execution_count": 0,
   "metadata": {
    "colab": {},
    "colab_type": "code",
    "id": "AOHM-oeWSsPd"
   },
   "outputs": [],
   "source": [
    "# split 10% of data as validation set\n",
    "(trainX, testX, trainY, testY) = train_test_split(X, y, test_size=0.10, stratify=y, random_state=42)"
   ]
  },
  {
   "cell_type": "code",
   "execution_count": 0,
   "metadata": {
    "colab": {},
    "colab_type": "code",
    "id": "1DfUhlOTcurq"
   },
   "outputs": [],
   "source": [
    "# data augumentation\n",
    "image_gen = ImageDataGenerator(rotation_range=10,\n",
    "                              width_shift_range=0.1,\n",
    "                              height_shift_range=0.1,\n",
    "                              shear_range=0.1,\n",
    "                              zoom_range=0.1,\n",
    "                              fill_mode=\"nearest\"\n",
    "                              )"
   ]
  },
  {
   "cell_type": "markdown",
   "metadata": {
    "colab_type": "text",
    "id": "vNMFc03Mb45i"
   },
   "source": [
    "## Initialize MobileNets architecture with pre-trained weight"
   ]
  },
  {
   "cell_type": "code",
   "execution_count": null,
   "metadata": {
    "colab": {},
    "colab_type": "code",
    "id": "AaemgepFcur0"
   },
   "outputs": [],
   "source": [
    "# Create our model with pre-trained MobileNetV2 architecture from imagenet\n",
    "def create_model(lr=1e-4,decay=1e-4/25, training=False,output_shape=y.shape[1]):\n",
    "    baseModel = MobileNetV2(weights=\"imagenet\", \n",
    "                            include_top=False,\n",
    "                            input_tensor=Input(shape=(80, 80, 3)))\n",
    "\n",
    "    headModel = baseModel.output\n",
    "    headModel = AveragePooling2D(pool_size=(3, 3))(headModel)\n",
    "    headModel = Flatten(name=\"flatten\")(headModel)\n",
    "    headModel = Dense(128, activation=\"relu\")(headModel)\n",
    "    headModel = Dropout(0.5)(headModel)\n",
    "    headModel = Dense(output_shape, activation=\"softmax\")(headModel)\n",
    "    \n",
    "    model = Model(inputs=baseModel.input, outputs=headModel)\n",
    "    \n",
    "    if training:\n",
    "        # define trainable lalyer\n",
    "        for layer in baseModel.layers:\n",
    "            layer.trainable = True\n",
    "        # compile model\n",
    "        optimizer = Adam(lr=lr, decay = decay)\n",
    "        model.compile(loss=\"categorical_crossentropy\", optimizer=optimizer,metrics=[\"accuracy\"])    \n",
    "        \n",
    "    return model"
   ]
  },
  {
   "cell_type": "code",
   "execution_count": 10,
   "metadata": {
    "colab": {
     "base_uri": "https://localhost:8080/",
     "height": 108
    },
    "colab_type": "code",
    "id": "-B5O6zG_cur5",
    "outputId": "83bfaffb-85bd-4219-da8e-ed68d7c656ad"
   },
   "outputs": [
    {
     "name": "stderr",
     "output_type": "stream",
     "text": [
      "/usr/local/lib/python3.6/dist-packages/keras_applications/mobilenet_v2.py:294: UserWarning: `input_shape` is undefined or non-square, or `rows` is not in [96, 128, 160, 192, 224]. Weights for input shape (224, 224) will be loaded as the default.\n",
      "  warnings.warn('`input_shape` is undefined or non-square, '\n"
     ]
    },
    {
     "name": "stdout",
     "output_type": "stream",
     "text": [
      "Downloading data from https://github.com/JonathanCMitchell/mobilenet_v2_keras/releases/download/v1.1/mobilenet_v2_weights_tf_dim_ordering_tf_kernels_1.0_224_no_top.h5\n",
      "9412608/9406464 [==============================] - 0s 0us/step\n"
     ]
    }
   ],
   "source": [
    "# initilaize initial hyperparameter\n",
    "INIT_LR = 1e-4\n",
    "EPOCHS = 30\n",
    "\n",
    "model = create_model(lr=INIT_LR, decay=INIT_LR/EPOCHS,training=True)"
   ]
  },
  {
   "cell_type": "markdown",
   "metadata": {
    "colab_type": "text",
    "id": "JR0L3nWgb-gK"
   },
   "source": [
    "## Train model"
   ]
  },
  {
   "cell_type": "code",
   "execution_count": 11,
   "metadata": {
    "colab": {
     "base_uri": "https://localhost:8080/",
     "height": 1000
    },
    "colab_type": "code",
    "id": "4d4NQLwDcusA",
    "outputId": "29c5fad5-3f23-427c-f04c-01af2a140e40"
   },
   "outputs": [
    {
     "name": "stdout",
     "output_type": "stream",
     "text": [
      "Epoch 1/30\n",
      "486/486 [==============================] - 147s 303ms/step - loss: 1.5441 - accuracy: 0.5989 - val_loss: 1.5866 - val_accuracy: 0.6090\n",
      "\n",
      "Epoch 00001: saving model to License_character_recognition.h5\n",
      "Epoch 2/30\n",
      "486/486 [==============================] - 124s 256ms/step - loss: 0.4201 - accuracy: 0.8930 - val_loss: 0.4698 - val_accuracy: 0.8788\n",
      "\n",
      "Epoch 00002: saving model to License_character_recognition.h5\n",
      "Epoch 3/30\n",
      "486/486 [==============================] - 125s 258ms/step - loss: 0.2769 - accuracy: 0.9281 - val_loss: 0.2617 - val_accuracy: 0.9352\n",
      "\n",
      "Epoch 00003: saving model to License_character_recognition.h5\n",
      "Epoch 4/30\n",
      "486/486 [==============================] - 125s 257ms/step - loss: 0.2103 - accuracy: 0.9454 - val_loss: 0.1744 - val_accuracy: 0.9563\n",
      "\n",
      "Epoch 00004: saving model to License_character_recognition.h5\n",
      "Epoch 5/30\n",
      "486/486 [==============================] - 126s 259ms/step - loss: 0.1642 - accuracy: 0.9554 - val_loss: 0.1491 - val_accuracy: 0.9592\n",
      "\n",
      "Epoch 00005: saving model to License_character_recognition.h5\n",
      "Epoch 6/30\n",
      "486/486 [==============================] - 127s 261ms/step - loss: 0.1429 - accuracy: 0.9610 - val_loss: 0.1245 - val_accuracy: 0.9656\n",
      "\n",
      "Epoch 00006: saving model to License_character_recognition.h5\n",
      "Epoch 7/30\n",
      "486/486 [==============================] - 125s 257ms/step - loss: 0.1311 - accuracy: 0.9654 - val_loss: 0.1258 - val_accuracy: 0.9641\n",
      "\n",
      "Epoch 00007: saving model to License_character_recognition.h5\n",
      "Epoch 8/30\n",
      "486/486 [==============================] - 125s 256ms/step - loss: 0.1125 - accuracy: 0.9693 - val_loss: 0.1202 - val_accuracy: 0.9688\n",
      "\n",
      "Epoch 00008: saving model to License_character_recognition.h5\n",
      "Epoch 9/30\n",
      "486/486 [==============================] - 124s 256ms/step - loss: 0.1024 - accuracy: 0.9730 - val_loss: 0.1038 - val_accuracy: 0.9714\n",
      "\n",
      "Epoch 00009: saving model to License_character_recognition.h5\n",
      "Epoch 10/30\n",
      "486/486 [==============================] - 126s 260ms/step - loss: 0.0924 - accuracy: 0.9751 - val_loss: 0.0972 - val_accuracy: 0.9746\n",
      "\n",
      "Epoch 00010: saving model to License_character_recognition.h5\n",
      "Epoch 11/30\n",
      "486/486 [==============================] - 126s 259ms/step - loss: 0.0825 - accuracy: 0.9772 - val_loss: 0.0869 - val_accuracy: 0.9751\n",
      "\n",
      "Epoch 00011: saving model to License_character_recognition.h5\n",
      "Epoch 12/30\n",
      "486/486 [==============================] - 125s 257ms/step - loss: 0.0821 - accuracy: 0.9782 - val_loss: 0.0872 - val_accuracy: 0.9786\n",
      "\n",
      "Epoch 00012: saving model to License_character_recognition.h5\n",
      "Epoch 13/30\n",
      "486/486 [==============================] - 125s 257ms/step - loss: 0.0736 - accuracy: 0.9803 - val_loss: 0.0601 - val_accuracy: 0.9844\n",
      "\n",
      "Epoch 00013: saving model to License_character_recognition.h5\n",
      "Epoch 14/30\n",
      "486/486 [==============================] - 125s 256ms/step - loss: 0.0761 - accuracy: 0.9800 - val_loss: 0.0747 - val_accuracy: 0.9800\n",
      "\n",
      "Epoch 00014: saving model to License_character_recognition.h5\n",
      "Epoch 15/30\n",
      "486/486 [==============================] - 126s 260ms/step - loss: 0.0631 - accuracy: 0.9829 - val_loss: 0.0598 - val_accuracy: 0.9853\n",
      "\n",
      "Epoch 00015: saving model to License_character_recognition.h5\n",
      "Epoch 16/30\n",
      "486/486 [==============================] - 126s 260ms/step - loss: 0.0563 - accuracy: 0.9847 - val_loss: 0.0873 - val_accuracy: 0.9803\n",
      "\n",
      "Epoch 00016: saving model to License_character_recognition.h5\n",
      "Epoch 17/30\n",
      "486/486 [==============================] - 125s 258ms/step - loss: 0.0565 - accuracy: 0.9848 - val_loss: 0.0726 - val_accuracy: 0.9832\n",
      "\n",
      "Epoch 00017: saving model to License_character_recognition.h5\n",
      "Epoch 18/30\n",
      "486/486 [==============================] - 126s 259ms/step - loss: 0.0534 - accuracy: 0.9851 - val_loss: 0.0762 - val_accuracy: 0.9803\n",
      "\n",
      "Epoch 00018: saving model to License_character_recognition.h5\n",
      "Epoch 19/30\n",
      "486/486 [==============================] - 126s 259ms/step - loss: 0.0516 - accuracy: 0.9861 - val_loss: 0.0979 - val_accuracy: 0.9792\n",
      "\n",
      "Epoch 00019: saving model to License_character_recognition.h5\n",
      "Epoch 20/30\n",
      "486/486 [==============================] - 127s 261ms/step - loss: 0.0462 - accuracy: 0.9873 - val_loss: 0.0749 - val_accuracy: 0.9847\n",
      "\n",
      "Epoch 00020: saving model to License_character_recognition.h5\n"
     ]
    }
   ],
   "source": [
    "BATCH_SIZE = 64\n",
    "\n",
    "my_checkpointer = [\n",
    "                EarlyStopping(monitor='val_loss', patience=5, verbose=0),\n",
    "                ModelCheckpoint(filepath=\"License_character_recognition.h5\", verbose=1, save_weights_only=True)\n",
    "                ]\n",
    "\n",
    "result = model.fit(image_gen.flow(trainX, trainY, batch_size=BATCH_SIZE), \n",
    "                   steps_per_epoch=len(trainX) // BATCH_SIZE, \n",
    "                   validation_data=(testX, testY), \n",
    "                   validation_steps=len(testX) // BATCH_SIZE, \n",
    "                   epochs=EPOCHS, callbacks=my_checkpointer)"
   ]
  },
  {
   "cell_type": "markdown",
   "metadata": {
    "colab_type": "text",
    "id": "va-WvqTpcCJw"
   },
   "source": [
    "## Visualize training result"
   ]
  },
  {
   "cell_type": "code",
   "execution_count": 14,
   "metadata": {
    "colab": {
     "base_uri": "https://localhost:8080/",
     "height": 362
    },
    "colab_type": "code",
    "id": "qUYOQrVzcusF",
    "outputId": "66bf8f56-e839-40bb-f1b7-3d7307c7fe26"
   },
   "outputs": [
    {
     "data": {
      "image/png": "[encoded data removed]",
      "text/plain": [
       "<Figure size 1008x360 with 2 Axes>"
      ]
     },
     "metadata": {
      "needs_background": "light",
      "tags": []
     },
     "output_type": "display_data"
    }
   ],
   "source": [
    "\n",
    "fig = plt.figure(figsize=(14,5))\n",
    "grid=gridspec.GridSpec(ncols=2,nrows=1,figure=fig)\n",
    "fig.add_subplot(grid[0])\n",
    "plt.plot(result.history['accuracy'], label='training accuracy')\n",
    "plt.plot(result.history['val_accuracy'], label='val accuracy')\n",
    "plt.title('Accuracy')\n",
    "plt.xlabel('epochs')\n",
    "plt.ylabel('accuracy')\n",
    "plt.legend()\n",
    "\n",
    "fig.add_subplot(grid[1])\n",
    "plt.plot(result.history['loss'], label='training loss')\n",
    "plt.plot(result.history['val_loss'], label='val loss')\n",
    "plt.title('Loss')\n",
    "plt.xlabel('epochs')\n",
    "plt.ylabel('loss')\n",
    "plt.legend()\n",
    "\n",
    "#plt.savefig(\"Training_result.jpg\",dpi=300)"
   ]
  },
  {
   "cell_type": "code",
   "execution_count": 0,
   "metadata": {
    "colab": {},
    "colab_type": "code",
    "id": "w8JOq60Xw1UY"
   },
   "outputs": [],
   "source": [
    "# save model architectur as json file\n",
    "model_json = model.to_json()\n",
    "with open(\"MobileNets_character_recognition.json\", \"w\") as json_file:\n",
    "  json_file.write(model_json)"
   ]
  },
  {
   "cell_type": "markdown",
   "metadata": {
    "colab_type": "text",
    "id": "t92Je4kBbs0g"
   },
   "source": [
    "## The End!"
   ]
  }
 ],
 "metadata": {
  "accelerator": "GPU",
  "colab": {
   "collapsed_sections": [],
   "name": "Train_license_character_recognition.ipynb",
   "provenance": [],
   "toc_visible": true
  },
  "kernelspec": {
   "display_name": "Python 3",
   "language": "python",
   "name": "python3"
  },
  "language_info": {
   "codemirror_mode": {
    "name": "ipython",
    "version": 3
   },
   "file_extension": ".py",
   "mimetype": "text/x-python",
   "name": "python",
   "nbconvert_exporter": "python",
   "pygments_lexer": "ipython3",
   "version": "3.7.1"
  }
 },
 "nbformat": 4,
 "nbformat_minor": 1
}
